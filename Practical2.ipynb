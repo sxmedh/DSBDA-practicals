{
 "cells": [
  {
   "cell_type": "code",
   "execution_count": 48,
   "id": "57081f0e",
   "metadata": {},
   "outputs": [],
   "source": [
    "import numpy as np \n",
    "import pandas as pd"
   ]
  },
  {
   "cell_type": "code",
   "execution_count": 49,
   "id": "6c20da0f",
   "metadata": {},
   "outputs": [],
   "source": [
    "df = pd.read_csv('Academic-Performance-Dataset.csv')"
   ]
  },
  {
   "cell_type": "code",
   "execution_count": 50,
   "id": "23580922",
   "metadata": {},
   "outputs": [
    {
     "data": {
      "text/html": [
       "<div>\n",
       "<style scoped>\n",
       "    .dataframe tbody tr th:only-of-type {\n",
       "        vertical-align: middle;\n",
       "    }\n",
       "\n",
       "    .dataframe tbody tr th {\n",
       "        vertical-align: top;\n",
       "    }\n",
       "\n",
       "    .dataframe thead th {\n",
       "        text-align: right;\n",
       "    }\n",
       "</style>\n",
       "<table border=\"1\" class=\"dataframe\">\n",
       "  <thead>\n",
       "    <tr style=\"text-align: right;\">\n",
       "      <th></th>\n",
       "      <th>Rollno</th>\n",
       "      <th>Name</th>\n",
       "      <th>Gender</th>\n",
       "      <th>Branch</th>\n",
       "      <th>Attendence</th>\n",
       "      <th>Phy_marks</th>\n",
       "      <th>Che_marks</th>\n",
       "      <th>EM1_marks</th>\n",
       "      <th>PPS_marks</th>\n",
       "      <th>SME_marks</th>\n",
       "      <th>Total Marks</th>\n",
       "      <th>Percentage</th>\n",
       "    </tr>\n",
       "  </thead>\n",
       "  <tbody>\n",
       "    <tr>\n",
       "      <th>0</th>\n",
       "      <td>1</td>\n",
       "      <td>Mohammed</td>\n",
       "      <td>M</td>\n",
       "      <td>Comp</td>\n",
       "      <td>72.0</td>\n",
       "      <td>62.0</td>\n",
       "      <td>98.0</td>\n",
       "      <td>63.0</td>\n",
       "      <td>89.0</td>\n",
       "      <td>36.0</td>\n",
       "      <td>368</td>\n",
       "      <td>73.6</td>\n",
       "    </tr>\n",
       "    <tr>\n",
       "      <th>1</th>\n",
       "      <td>2</td>\n",
       "      <td>Reyansh</td>\n",
       "      <td>M</td>\n",
       "      <td>IT</td>\n",
       "      <td>58.0</td>\n",
       "      <td>62.0</td>\n",
       "      <td>83.0</td>\n",
       "      <td>83.0</td>\n",
       "      <td>88.0</td>\n",
       "      <td>34.0</td>\n",
       "      <td>350</td>\n",
       "      <td>70.0</td>\n",
       "    </tr>\n",
       "    <tr>\n",
       "      <th>2</th>\n",
       "      <td>3</td>\n",
       "      <td>Aarav</td>\n",
       "      <td>M</td>\n",
       "      <td>IT</td>\n",
       "      <td>57.0</td>\n",
       "      <td>-20.0</td>\n",
       "      <td>100.0</td>\n",
       "      <td>NaN</td>\n",
       "      <td>56.0</td>\n",
       "      <td>36.0</td>\n",
       "      <td>192</td>\n",
       "      <td>38.4</td>\n",
       "    </tr>\n",
       "    <tr>\n",
       "      <th>3</th>\n",
       "      <td>4</td>\n",
       "      <td>Atharv</td>\n",
       "      <td>M</td>\n",
       "      <td>IT</td>\n",
       "      <td>60.0</td>\n",
       "      <td>89.0</td>\n",
       "      <td>83.0</td>\n",
       "      <td>70.0</td>\n",
       "      <td>33.0</td>\n",
       "      <td>23.0</td>\n",
       "      <td>298</td>\n",
       "      <td>59.6</td>\n",
       "    </tr>\n",
       "    <tr>\n",
       "      <th>4</th>\n",
       "      <td>5</td>\n",
       "      <td>Vivaan</td>\n",
       "      <td>M</td>\n",
       "      <td>Comp</td>\n",
       "      <td>85.0</td>\n",
       "      <td>90.0</td>\n",
       "      <td>NaN</td>\n",
       "      <td>78.0</td>\n",
       "      <td>23.0</td>\n",
       "      <td>56.0</td>\n",
       "      <td>247</td>\n",
       "      <td>49.4</td>\n",
       "    </tr>\n",
       "  </tbody>\n",
       "</table>\n",
       "</div>"
      ],
      "text/plain": [
       "   Rollno      Name Gender Branch  Attendence  Phy_marks  Che_marks   \n",
       "0       1  Mohammed      M   Comp        72.0       62.0       98.0  \\\n",
       "1       2   Reyansh      M     IT        58.0       62.0       83.0   \n",
       "2       3     Aarav      M     IT        57.0      -20.0      100.0   \n",
       "3       4    Atharv      M     IT        60.0       89.0       83.0   \n",
       "4       5    Vivaan      M   Comp        85.0       90.0        NaN   \n",
       "\n",
       "   EM1_marks  PPS_marks  SME_marks  Total Marks  Percentage  \n",
       "0       63.0       89.0       36.0          368        73.6  \n",
       "1       83.0       88.0       34.0          350        70.0  \n",
       "2        NaN       56.0       36.0          192        38.4  \n",
       "3       70.0       33.0       23.0          298        59.6  \n",
       "4       78.0       23.0       56.0          247        49.4  "
      ]
     },
     "execution_count": 50,
     "metadata": {},
     "output_type": "execute_result"
    }
   ],
   "source": [
    "df.head()"
   ]
  },
  {
   "cell_type": "code",
   "execution_count": 51,
   "id": "4fab198b",
   "metadata": {},
   "outputs": [
    {
     "data": {
      "text/plain": [
       "Rollno         0\n",
       "Name           2\n",
       "Gender         0\n",
       "Branch         0\n",
       "Attendence     0\n",
       "Phy_marks      1\n",
       "Che_marks      3\n",
       "EM1_marks      2\n",
       "PPS_marks      1\n",
       "SME_marks      0\n",
       "Total Marks    0\n",
       "Percentage     0\n",
       "dtype: int64"
      ]
     },
     "execution_count": 51,
     "metadata": {},
     "output_type": "execute_result"
    }
   ],
   "source": [
    "df.isnull().sum()"
   ]
  },
  {
   "cell_type": "code",
   "execution_count": 52,
   "id": "b60c91a2",
   "metadata": {},
   "outputs": [
    {
     "data": {
      "text/plain": [
       "Rollno         0\n",
       "Name           2\n",
       "Gender         0\n",
       "Branch         0\n",
       "Attendence     0\n",
       "Phy_marks      0\n",
       "Che_marks      0\n",
       "EM1_marks      0\n",
       "PPS_marks      0\n",
       "SME_marks      0\n",
       "Total Marks    0\n",
       "Percentage     0\n",
       "dtype: int64"
      ]
     },
     "execution_count": 52,
     "metadata": {},
     "output_type": "execute_result"
    }
   ],
   "source": [
    "cols_null = []\n",
    "for cols in df.columns:\n",
    "    if df[cols].isna().any():\n",
    "        cols_null.append(cols)\n",
    "\n",
    "cols_null\n",
    "cols_null.remove('Name')\n",
    "cols_null\n",
    "for cols in cols_null:\n",
    "    col_mean = df[cols].mean()\n",
    "    df[cols].fillna(col_mean,inplace=True)\n",
    "    \n",
    "df.isnull().sum()"
   ]
  },
  {
   "cell_type": "code",
   "execution_count": 53,
   "id": "915a90f3",
   "metadata": {},
   "outputs": [
    {
     "data": {
      "text/plain": [
       "Rollno         0\n",
       "Name           0\n",
       "Gender         0\n",
       "Branch         0\n",
       "Attendence     0\n",
       "Phy_marks      0\n",
       "Che_marks      0\n",
       "EM1_marks      0\n",
       "PPS_marks      0\n",
       "SME_marks      0\n",
       "Total Marks    0\n",
       "Percentage     0\n",
       "dtype: int64"
      ]
     },
     "execution_count": 53,
     "metadata": {},
     "output_type": "execute_result"
    }
   ],
   "source": [
    "df.dropna(subset=['Name'],inplace=True)\n",
    "df.isnull().sum()"
   ]
  },
  {
   "cell_type": "code",
   "execution_count": 54,
   "id": "2e001dcb",
   "metadata": {},
   "outputs": [
    {
     "data": {
      "text/plain": [
       "Rollno           int64\n",
       "Name            object\n",
       "Gender          object\n",
       "Branch          object\n",
       "Attendence     float64\n",
       "Phy_marks      float64\n",
       "Che_marks      float64\n",
       "EM1_marks      float64\n",
       "PPS_marks      float64\n",
       "SME_marks      float64\n",
       "Total Marks      int64\n",
       "Percentage     float64\n",
       "dtype: object"
      ]
     },
     "execution_count": 54,
     "metadata": {},
     "output_type": "execute_result"
    }
   ],
   "source": [
    "df.dtypes"
   ]
  },
  {
   "cell_type": "code",
   "execution_count": 57,
   "id": "fbb35606",
   "metadata": {},
   "outputs": [
    {
     "data": {
      "text/plain": [
       "['Rollno',\n",
       " 'Attendence',\n",
       " 'Phy_marks',\n",
       " 'Che_marks',\n",
       " 'EM1_marks',\n",
       " 'PPS_marks',\n",
       " 'SME_marks',\n",
       " 'Total Marks',\n",
       " 'Percentage']"
      ]
     },
     "execution_count": 57,
     "metadata": {},
     "output_type": "execute_result"
    }
   ],
   "source": [
    "numerical = []\n",
    "for cols in df.columns:\n",
    "    if df[cols].dtype != 'object':\n",
    "        numerical.append(cols)\n",
    "        \n",
    "numerical"
   ]
  },
  {
   "cell_type": "code",
   "execution_count": 58,
   "id": "766dfb85",
   "metadata": {},
   "outputs": [],
   "source": [
    "for col in numerical:\n",
    "    q1 = df[col].quantile(0.25)\n",
    "    q3 = df[col].quantile(0.75)\n",
    "    IQR = q3 - q1\n",
    "    low = q1 - (1.5 * IQR)\n",
    "    high = q3 + (1.5 * IQR)\n",
    "    df.loc[df[col]<low,col] = low\n",
    "    df.loc[df[col]>high,col] = high\n",
    "    "
   ]
  },
  {
   "cell_type": "code",
   "execution_count": 59,
   "id": "e2179a39",
   "metadata": {},
   "outputs": [],
   "source": [
    "def grading(val):\n",
    "    if val >= 80 and val <=100:\n",
    "        return 'O'\n",
    "    elif val >= 70 and val <80:\n",
    "        return 'A'\n",
    "    elif val >= 60 and val <70:\n",
    "        return 'B'\n",
    "    elif val < 60:\n",
    "        return 'F'"
   ]
  },
  {
   "cell_type": "code",
   "execution_count": 60,
   "id": "ddcaf0e1",
   "metadata": {},
   "outputs": [],
   "source": [
    "df['Grade'] = df['Percentage'].apply(grading)"
   ]
  },
  {
   "cell_type": "code",
   "execution_count": 61,
   "id": "96d3b29a",
   "metadata": {},
   "outputs": [
    {
     "data": {
      "text/html": [
       "<div>\n",
       "<style scoped>\n",
       "    .dataframe tbody tr th:only-of-type {\n",
       "        vertical-align: middle;\n",
       "    }\n",
       "\n",
       "    .dataframe tbody tr th {\n",
       "        vertical-align: top;\n",
       "    }\n",
       "\n",
       "    .dataframe thead th {\n",
       "        text-align: right;\n",
       "    }\n",
       "</style>\n",
       "<table border=\"1\" class=\"dataframe\">\n",
       "  <thead>\n",
       "    <tr style=\"text-align: right;\">\n",
       "      <th></th>\n",
       "      <th>Rollno</th>\n",
       "      <th>Name</th>\n",
       "      <th>Gender</th>\n",
       "      <th>Branch</th>\n",
       "      <th>Attendence</th>\n",
       "      <th>Phy_marks</th>\n",
       "      <th>Che_marks</th>\n",
       "      <th>EM1_marks</th>\n",
       "      <th>PPS_marks</th>\n",
       "      <th>SME_marks</th>\n",
       "      <th>Total Marks</th>\n",
       "      <th>Percentage</th>\n",
       "      <th>Grade</th>\n",
       "    </tr>\n",
       "  </thead>\n",
       "  <tbody>\n",
       "    <tr>\n",
       "      <th>0</th>\n",
       "      <td>1</td>\n",
       "      <td>Mohammed</td>\n",
       "      <td>M</td>\n",
       "      <td>Comp</td>\n",
       "      <td>72.0</td>\n",
       "      <td>62.00</td>\n",
       "      <td>98.000000</td>\n",
       "      <td>63.000000</td>\n",
       "      <td>89.0</td>\n",
       "      <td>36.0</td>\n",
       "      <td>368.0</td>\n",
       "      <td>73.6</td>\n",
       "      <td>A</td>\n",
       "    </tr>\n",
       "    <tr>\n",
       "      <th>1</th>\n",
       "      <td>2</td>\n",
       "      <td>Reyansh</td>\n",
       "      <td>M</td>\n",
       "      <td>IT</td>\n",
       "      <td>58.0</td>\n",
       "      <td>62.00</td>\n",
       "      <td>83.000000</td>\n",
       "      <td>83.000000</td>\n",
       "      <td>88.0</td>\n",
       "      <td>34.0</td>\n",
       "      <td>350.0</td>\n",
       "      <td>70.0</td>\n",
       "      <td>A</td>\n",
       "    </tr>\n",
       "    <tr>\n",
       "      <th>2</th>\n",
       "      <td>3</td>\n",
       "      <td>Aarav</td>\n",
       "      <td>M</td>\n",
       "      <td>IT</td>\n",
       "      <td>57.0</td>\n",
       "      <td>11.75</td>\n",
       "      <td>100.000000</td>\n",
       "      <td>83.444444</td>\n",
       "      <td>56.0</td>\n",
       "      <td>36.0</td>\n",
       "      <td>192.0</td>\n",
       "      <td>38.4</td>\n",
       "      <td>F</td>\n",
       "    </tr>\n",
       "    <tr>\n",
       "      <th>3</th>\n",
       "      <td>4</td>\n",
       "      <td>Atharv</td>\n",
       "      <td>M</td>\n",
       "      <td>IT</td>\n",
       "      <td>60.0</td>\n",
       "      <td>89.00</td>\n",
       "      <td>83.000000</td>\n",
       "      <td>70.000000</td>\n",
       "      <td>33.0</td>\n",
       "      <td>23.0</td>\n",
       "      <td>298.0</td>\n",
       "      <td>59.6</td>\n",
       "      <td>F</td>\n",
       "    </tr>\n",
       "    <tr>\n",
       "      <th>4</th>\n",
       "      <td>5</td>\n",
       "      <td>Vivaan</td>\n",
       "      <td>M</td>\n",
       "      <td>Comp</td>\n",
       "      <td>85.0</td>\n",
       "      <td>90.00</td>\n",
       "      <td>80.764706</td>\n",
       "      <td>78.000000</td>\n",
       "      <td>23.0</td>\n",
       "      <td>56.0</td>\n",
       "      <td>247.0</td>\n",
       "      <td>49.4</td>\n",
       "      <td>F</td>\n",
       "    </tr>\n",
       "  </tbody>\n",
       "</table>\n",
       "</div>"
      ],
      "text/plain": [
       "   Rollno      Name Gender Branch  Attendence  Phy_marks   Che_marks   \n",
       "0       1  Mohammed      M   Comp        72.0      62.00   98.000000  \\\n",
       "1       2   Reyansh      M     IT        58.0      62.00   83.000000   \n",
       "2       3     Aarav      M     IT        57.0      11.75  100.000000   \n",
       "3       4    Atharv      M     IT        60.0      89.00   83.000000   \n",
       "4       5    Vivaan      M   Comp        85.0      90.00   80.764706   \n",
       "\n",
       "   EM1_marks  PPS_marks  SME_marks  Total Marks  Percentage Grade  \n",
       "0  63.000000       89.0       36.0        368.0        73.6     A  \n",
       "1  83.000000       88.0       34.0        350.0        70.0     A  \n",
       "2  83.444444       56.0       36.0        192.0        38.4     F  \n",
       "3  70.000000       33.0       23.0        298.0        59.6     F  \n",
       "4  78.000000       23.0       56.0        247.0        49.4     F  "
      ]
     },
     "execution_count": 61,
     "metadata": {},
     "output_type": "execute_result"
    }
   ],
   "source": [
    "df.head()"
   ]
  },
  {
   "cell_type": "code",
   "execution_count": null,
   "id": "1309946f",
   "metadata": {},
   "outputs": [],
   "source": []
  }
 ],
 "metadata": {
  "kernelspec": {
   "display_name": "Python 3 (ipykernel)",
   "language": "python",
   "name": "python3"
  },
  "language_info": {
   "codemirror_mode": {
    "name": "ipython",
    "version": 3
   },
   "file_extension": ".py",
   "mimetype": "text/x-python",
   "name": "python",
   "nbconvert_exporter": "python",
   "pygments_lexer": "ipython3",
   "version": "3.11.0"
  }
 },
 "nbformat": 4,
 "nbformat_minor": 5
}
